{
 "metadata": {
  "name": "",
  "signature": "sha256:8824f6019b11baf9d623a195559780f290d8b35bfecbf20dd434d75d12a74e4a"
 },
 "nbformat": 3,
 "nbformat_minor": 0,
 "worksheets": [
  {
   "cells": [
    {
     "cell_type": "code",
     "collapsed": false,
     "input": [
      "import pandas as pd\n",
      "import math\n",
      "\n",
      "increment = 1.1 # determines width of buckets for density analysis"
     ],
     "language": "python",
     "metadata": {},
     "outputs": [],
     "prompt_number": 17
    },
    {
     "cell_type": "code",
     "collapsed": false,
     "input": [
      "def density_distribution(source):\n",
      "    # filter source to blocks with nonzero population and land area\n",
      "    source = source[source.ALAND10 > 0]\n",
      "    source = source[source.POP10 > 0]\n",
      "    \n",
      "    # calculate population density for each block\n",
      "    # multiply by 1000000 to convert to persons / sq km\n",
      "    source[\"density\"] = source[\"POP10\"] * 1000000 / source[\"ALAND10\"]\n",
      "    \n",
      "    # determine density buckets, geometrically distributed from source.density.min() to source.density.max()\n",
      "    densitybuckets = [math.ceil(source.density.min())]\n",
      "    i = densitybuckets[0]\n",
      "    while i < source.density.max():\n",
      "        i = math.ceil(i * increment)\n",
      "        densitybuckets.append(i)\n",
      "        \n",
      "    # df will hold our results\n",
      "    df = pd.DataFrame()\n",
      "    df[\"threshold\"] = densitybuckets\n",
      "    df[\"cum_pop\"] = 0\n",
      "    df[\"population\"] = 0 # can't call it pop because that is a function!\n",
      "    \n",
      "    # cumulative population\n",
      "    # for each row in df, sum the populations of all blocks with density less than threshold\n",
      "    for i in df.index.values:\n",
      "        blocks = source[source.density < df.threshold.loc[i]]\n",
      "        df.cum_pop.loc[i] = blocks.POP10.sum()\n",
      "        \n",
      "    # marginal population, calculated via simple subtraction\n",
      "    df[\"population\"][0] = df[\"cum_pop\"][0]\n",
      "    for i in range(1,len(df.index)):\n",
      "        df[\"population\"][i] = df[\"cum_pop\"][i] - df[\"cum_pop\"][i-1]\n",
      "        \n",
      "    # % of population\n",
      "    df[\"pct_pop\"] = df[\"population\"] / df.population.sum()\n",
      "        \n",
      "    return df"
     ],
     "language": "python",
     "metadata": {},
     "outputs": [],
     "prompt_number": 28
    },
    {
     "cell_type": "code",
     "collapsed": false,
     "input": [
      "all_CA = pd.read_csv(\"all_CA.csv\")"
     ],
     "language": "python",
     "metadata": {},
     "outputs": [],
     "prompt_number": 19
    },
    {
     "cell_type": "code",
     "collapsed": false,
     "input": [
      "metroareas = {}\n",
      "\n",
      "metroareas[\"LA\"] = [37, 59, 111, 71, 65] # Los Angeles-Long Beach-Riverside, CA CSA: Los Angeles, Orange, Ventura, San Bernardino, and Riverside Counties\n",
      "metroareas[\"SD\"] = [73] # San Diego-Carlsbad-San Marcos, CA MSA: San Diego County\n",
      "metroareas[\"SJ\"] = [85, 69] # San Jose-Sunnyvale-Santa Clara, CA MSA: Santa Clara and San Benito Counties\n",
      "metroareas[\"SF\"] = [75, 1, 41, 13, 81] # San Francisco-Oakland-Fremont, CA MSA: San Francisco, Alameda, Marin, Contra Costa, and San Mateo Counties\n",
      "metroareas[\"Fresno\"] = [19, 39] # Fresno-Madera, CA CSA: Fresno and Madera Counties\n",
      "metroareas[\"Sacto\"] = [67, 61, 113, 17] # Sacramento-Arden Arcade-Roseville, CA MSA: Sacramento, Placer, Yolo, and El Dorado Counties"
     ],
     "language": "python",
     "metadata": {},
     "outputs": [],
     "prompt_number": 20
    },
    {
     "cell_type": "code",
     "collapsed": false,
     "input": [
      "metrosource = {}\n",
      "\n",
      "for key, value in metroareas.iteritems():\n",
      "    metrosource[key] = all_CA[all_CA.COUNTYFP10.isin(value)] # the in operator doesn't work with pandas! but this works fine"
     ],
     "language": "python",
     "metadata": {},
     "outputs": [],
     "prompt_number": 21
    },
    {
     "cell_type": "code",
     "collapsed": false,
     "input": [
      "metroresults = {}\n",
      "\n",
      "for key, value in metrosource.iteritems():\n",
      "    metroresults[key] = density_distribution(value)"
     ],
     "language": "python",
     "metadata": {},
     "outputs": [],
     "prompt_number": 29
    },
    {
     "cell_type": "code",
     "collapsed": false,
     "input": [
      "import plotly.plotly as py\n",
      "from plotly.graph_objs import *\n",
      "py.sign_in(\"drew.levitt\", \"eqovjq7yrk\")\n",
      "\n",
      "trace1 = Scatter(\n",
      "    x=metroresults[\"SF\"].threshold.tolist(),\n",
      "    y=metroresults[\"SF\"].pct_pop.tolist()\n",
      ")\n",
      "\n",
      "trace2 = Scatter(\n",
      "    x=metroresults[\"LA\"].threshold.tolist(),\n",
      "    y=metroresults[\"LA\"].pct_pop.tolist()\n",
      ")\n",
      "\n",
      "trace3 = Scatter(\n",
      "    x=metroresults[\"SJ\"].threshold.tolist(),\n",
      "    y=metroresults[\"SJ\"].pct_pop.tolist()\n",
      ")\n",
      "\n",
      "data = Data([trace1, trace2, trace3])\n",
      "layout = Layout(\n",
      "    xaxis=XAxis(\n",
      "        type='log',\n",
      "        autorange=True\n",
      "    ),\n",
      "    yaxis=YAxis(\n",
      "#        type='log',\n",
      "        autorange=True\n",
      "    )\n",
      ")\n",
      "fig = Figure(data=data, layout=layout)\n",
      "plot_url = py.plot(fig, filename='plotly-log-axes')"
     ],
     "language": "python",
     "metadata": {},
     "outputs": [
      {
       "output_type": "stream",
       "stream": "stdout",
       "text": [
        "High five! You successfuly sent some data to your account on plotly. View your plot in your browser at https://plot.ly/~drew.levitt/0 or inside your plot.ly account where it is named 'plotly-log-axes'\n"
       ]
      }
     ],
     "prompt_number": 31
    }
   ],
   "metadata": {}
  }
 ]
}