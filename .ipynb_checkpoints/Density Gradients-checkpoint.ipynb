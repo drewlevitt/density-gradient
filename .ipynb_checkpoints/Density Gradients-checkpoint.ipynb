{
 "metadata": {
  "name": "",
  "signature": "sha256:189133f259a241013d1c02802192e79aa8351eeba9ce9be70fa4beb8d5fb095d"
 },
 "nbformat": 3,
 "nbformat_minor": 0,
 "worksheets": [
  {
   "cells": [
    {
     "cell_type": "code",
     "collapsed": false,
     "input": [
      "import pandas as pd\n",
      "import math\n",
      "\n",
      "increment = 1.02 # determines width of buckets for density analysis"
     ],
     "language": "python",
     "metadata": {},
     "outputs": [],
     "prompt_number": 4
    },
    {
     "cell_type": "code",
     "collapsed": false,
     "input": [
      "def density(source):\n",
      "    \"\"\"\n",
      "    Return a dataframe of all blocks with nonzero population and land area, with density calculated in persons / sq mi\n",
      "    \"\"\"\n",
      "    # filter source to blocks with nonzero population and land area\n",
      "    source = source[source.ALAND10 > 0]\n",
      "    source = source[source.POP10 > 0]\n",
      "    \n",
      "    # calculate population density for each block\n",
      "    # multiply by 2589988.11 to convert to persons / sq mi\n",
      "    # (we could instead multiply by 1000000 to convert to persons / sq km)\n",
      "    source[\"density\"] = source[\"POP10\"] * 2589988.11 / source[\"ALAND10\"]\n",
      "    \n",
      "    return source\n",
      "    \n",
      "def density_distribution(source):\n",
      "    source = density(source)\n",
      "    \n",
      "    # determine density buckets, geometrically distributed from source.density.min() to source.density.max()\n",
      "    densitybuckets = [math.ceil(source.density.min())]\n",
      "    i = densitybuckets[0]\n",
      "    while i < source.density.max():\n",
      "        i = math.ceil(i * increment)\n",
      "        densitybuckets.append(i)\n",
      "        \n",
      "    # df will hold our results\n",
      "    df = pd.DataFrame()\n",
      "    df[\"threshold\"] = densitybuckets\n",
      "    df[\"cum_pop\"] = 0\n",
      "    df[\"population\"] = 0 # can't call it pop because that is a function!\n",
      "    \n",
      "    # cumulative population\n",
      "    # for each row in df, sum the populations of all blocks with density less than threshold\n",
      "    for i in df.index.values:\n",
      "        blocks = source[source.density < df.threshold.loc[i]]\n",
      "        df.cum_pop.loc[i] = blocks.POP10.sum()\n",
      "        \n",
      "    # marginal population, calculated via simple subtraction\n",
      "    df[\"population\"][0] = df[\"cum_pop\"][0]\n",
      "    for i in range(1,len(df.index)):\n",
      "        df[\"population\"][i] = df[\"cum_pop\"][i] - df[\"cum_pop\"][i-1]\n",
      "        \n",
      "    # % of population\n",
      "    df[\"pct_pop\"] = df[\"population\"] / df.population.sum()\n",
      "        \n",
      "    return df"
     ],
     "language": "python",
     "metadata": {},
     "outputs": [],
     "prompt_number": 5
    },
    {
     "cell_type": "code",
     "collapsed": false,
     "input": [
      "all_CA = pd.read_csv(\"all_CA.csv\")"
     ],
     "language": "python",
     "metadata": {},
     "outputs": [],
     "prompt_number": 6
    },
    {
     "cell_type": "code",
     "collapsed": false,
     "input": [
      "metroareas = {}\n",
      "\n",
      "metroareas[\"LA\"] = [37, 59, 111, 71, 65] # Los Angeles-Long Beach-Riverside, CA CSA: Los Angeles, Orange, Ventura, San Bernardino, and Riverside Counties\n",
      "metroareas[\"SD\"] = [73] # San Diego-Carlsbad-San Marcos, CA MSA: San Diego County\n",
      "metroareas[\"SJ\"] = [85, 69] # San Jose-Sunnyvale-Santa Clara, CA MSA: Santa Clara and San Benito Counties\n",
      "metroareas[\"SF\"] = [75, 1, 41, 13, 81] # San Francisco-Oakland-Fremont, CA MSA: San Francisco, Alameda, Marin, Contra Costa, and San Mateo Counties\n",
      "metroareas[\"Fresno\"] = [19, 39] # Fresno-Madera, CA CSA: Fresno and Madera Counties\n",
      "metroareas[\"Sacto\"] = [67, 61, 113, 17] # Sacramento-Arden Arcade-Roseville, CA MSA: Sacramento, Placer, Yolo, and El Dorado Counties"
     ],
     "language": "python",
     "metadata": {},
     "outputs": [],
     "prompt_number": 7
    },
    {
     "cell_type": "code",
     "collapsed": false,
     "input": [
      "metrosource = {}\n",
      "\n",
      "for key, value in metroareas.iteritems():\n",
      "    metrosource[key] = all_CA[all_CA.COUNTYFP10.isin(value)] # the in operator doesn't work with pandas! but this works fine"
     ],
     "language": "python",
     "metadata": {},
     "outputs": [],
     "prompt_number": 8
    },
    {
     "cell_type": "code",
     "collapsed": false,
     "input": [
      "metroresults = {}\n",
      "\n",
      "for key, value in metrosource.iteritems():\n",
      "    metroresults[key] = density_distribution(value)"
     ],
     "language": "python",
     "metadata": {},
     "outputs": [],
     "prompt_number": 6
    },
    {
     "cell_type": "code",
     "collapsed": false,
     "input": [
      "import plotly.plotly as py\n",
      "from plotly.graph_objs import *\n",
      "py.sign_in(\"drew.levitt\", \"eqovjq7yrk\")\n",
      "\n",
      "trace1 = Scatter(\n",
      "    x=metroresults[\"SF\"].threshold.tolist(),\n",
      "    y=metroresults[\"SF\"].population.tolist()\n",
      ")\n",
      "\n",
      "trace2 = Scatter(\n",
      "    x=metroresults[\"LA\"].threshold.tolist(),\n",
      "    y=metroresults[\"LA\"].population.tolist()\n",
      ")\n",
      "\n",
      "trace3 = Scatter(\n",
      "    x=metroresults[\"SJ\"].threshold.tolist(),\n",
      "    y=metroresults[\"SJ\"].population.tolist()\n",
      ")\n",
      "\n",
      "data = Data([trace1, trace2, trace3])\n",
      "layout = Layout(\n",
      "    xaxis=XAxis(\n",
      "        type='log',\n",
      "        autorange=True\n",
      "    ),\n",
      "    yaxis=YAxis(\n",
      "#        type='log',\n",
      "        autorange=True\n",
      "    )\n",
      ")\n",
      "fig = Figure(data=data, layout=layout)\n",
      "plot_url = py.plot(fig, filename='plotly-log-axes')"
     ],
     "language": "python",
     "metadata": {},
     "outputs": [
      {
       "output_type": "stream",
       "stream": "stdout",
       "text": [
        "High five! You successfuly sent some data to your account on plotly. View your plot in your browser at https://plot.ly/~drew.levitt/0 or inside your plot.ly account where it is named 'plotly-log-axes'\n"
       ]
      }
     ],
     "prompt_number": 8
    },
    {
     "cell_type": "code",
     "collapsed": false,
     "input": [
      "sf_density = density(metrosource[\"SF\"])"
     ],
     "language": "python",
     "metadata": {},
     "outputs": [],
     "prompt_number": 9
    },
    {
     "cell_type": "code",
     "collapsed": false,
     "input": [
      "sf_highdensity = sf_density[sf_density.density >= 15000]"
     ],
     "language": "python",
     "metadata": {},
     "outputs": [],
     "prompt_number": 10
    },
    {
     "cell_type": "code",
     "collapsed": false,
     "input": [
      "print len(sf_density), len(sf_highdensity)"
     ],
     "language": "python",
     "metadata": {},
     "outputs": [
      {
       "output_type": "stream",
       "stream": "stdout",
       "text": [
        "40303 10529\n"
       ]
      }
     ],
     "prompt_number": 11
    },
    {
     "cell_type": "code",
     "collapsed": false,
     "input": [
      "from math import radians, cos, sin, asin, sqrt\n",
      "\n",
      "def haversine(lon1, lat1, lon2, lat2):\n",
      "    \"\"\"\n",
      "    Calculate the great circle distance between two points on the earth (specified in decimal degrees)\n",
      "    \"\"\"\n",
      "    # convert decimal degrees to radians \n",
      "    lon1, lat1, lon2, lat2 = map(radians, [lon1, lat1, lon2, lat2])\n",
      "\n",
      "    # haversine formula \n",
      "    dlon = lon2 - lon1 \n",
      "    dlat = lat2 - lat1 \n",
      "    a = sin(dlat/2.)**2 + cos(lat1) * cos(lat2) * sin(dlon/2.)**2\n",
      "    c = 2 * asin(sqrt(a)) \n",
      "\n",
      "    # 3959 mi (6371 km) is the radius of the Earth\n",
      "    mi = 3959 * c\n",
      "    return mi"
     ],
     "language": "python",
     "metadata": {},
     "outputs": [],
     "prompt_number": 20
    },
    {
     "cell_type": "code",
     "collapsed": false,
     "input": [
      "sf_highdensity.head()"
     ],
     "language": "python",
     "metadata": {},
     "outputs": [
      {
       "html": [
        "<div style=\"max-height:1000px;max-width:1500px;overflow:auto;\">\n",
        "<table border=\"1\" class=\"dataframe\">\n",
        "  <thead>\n",
        "    <tr style=\"text-align: right;\">\n",
        "      <th></th>\n",
        "      <th>STATEFP10</th>\n",
        "      <th>COUNTYFP10</th>\n",
        "      <th>TRACTCE10</th>\n",
        "      <th>BLOCKCE10</th>\n",
        "      <th>GEOID10</th>\n",
        "      <th>ALAND10</th>\n",
        "      <th>AWATER10</th>\n",
        "      <th>INTPTLAT10</th>\n",
        "      <th>INTPTLON10</th>\n",
        "      <th>HOUSING10</th>\n",
        "      <th>POP10</th>\n",
        "      <th>density</th>\n",
        "    </tr>\n",
        "  </thead>\n",
        "  <tbody>\n",
        "    <tr>\n",
        "      <th>5 </th>\n",
        "      <td> 6</td>\n",
        "      <td> 1</td>\n",
        "      <td> 405301</td>\n",
        "      <td> 2002</td>\n",
        "      <td> 60014053012002</td>\n",
        "      <td>  2140</td>\n",
        "      <td> 0</td>\n",
        "      <td> 37.801053</td>\n",
        "      <td>-122.254368</td>\n",
        "      <td> 98</td>\n",
        "      <td> 132</td>\n",
        "      <td> 159756.275944</td>\n",
        "    </tr>\n",
        "    <tr>\n",
        "      <th>17</th>\n",
        "      <td> 6</td>\n",
        "      <td> 1</td>\n",
        "      <td> 427600</td>\n",
        "      <td> 2001</td>\n",
        "      <td> 60014276002001</td>\n",
        "      <td>  1668</td>\n",
        "      <td> 0</td>\n",
        "      <td> 37.777080</td>\n",
        "      <td>-122.279261</td>\n",
        "      <td>  6</td>\n",
        "      <td>  19</td>\n",
        "      <td>  29502.262644</td>\n",
        "    </tr>\n",
        "    <tr>\n",
        "      <th>20</th>\n",
        "      <td> 6</td>\n",
        "      <td> 1</td>\n",
        "      <td> 422500</td>\n",
        "      <td> 2005</td>\n",
        "      <td> 60014225002005</td>\n",
        "      <td> 10537</td>\n",
        "      <td> 0</td>\n",
        "      <td> 37.876048</td>\n",
        "      <td>-122.256400</td>\n",
        "      <td>  1</td>\n",
        "      <td> 827</td>\n",
        "      <td> 203276.090630</td>\n",
        "    </tr>\n",
        "    <tr>\n",
        "      <th>22</th>\n",
        "      <td> 6</td>\n",
        "      <td> 1</td>\n",
        "      <td> 422800</td>\n",
        "      <td> 3008</td>\n",
        "      <td> 60014228003008</td>\n",
        "      <td> 10506</td>\n",
        "      <td> 0</td>\n",
        "      <td> 37.865816</td>\n",
        "      <td>-122.263866</td>\n",
        "      <td> 57</td>\n",
        "      <td> 103</td>\n",
        "      <td>  25392.040294</td>\n",
        "    </tr>\n",
        "    <tr>\n",
        "      <th>23</th>\n",
        "      <td> 6</td>\n",
        "      <td> 1</td>\n",
        "      <td> 423602</td>\n",
        "      <td> 3009</td>\n",
        "      <td> 60014236023009</td>\n",
        "      <td> 19893</td>\n",
        "      <td> 0</td>\n",
        "      <td> 37.862168</td>\n",
        "      <td>-122.263677</td>\n",
        "      <td> 81</td>\n",
        "      <td> 205</td>\n",
        "      <td>  26690.170540</td>\n",
        "    </tr>\n",
        "  </tbody>\n",
        "</table>\n",
        "</div>"
       ],
       "metadata": {},
       "output_type": "pyout",
       "prompt_number": 13,
       "text": [
        "    STATEFP10  COUNTYFP10  TRACTCE10  BLOCKCE10         GEOID10  ALAND10  \\\n",
        "5           6           1     405301       2002  60014053012002     2140   \n",
        "17          6           1     427600       2001  60014276002001     1668   \n",
        "20          6           1     422500       2005  60014225002005    10537   \n",
        "22          6           1     422800       3008  60014228003008    10506   \n",
        "23          6           1     423602       3009  60014236023009    19893   \n",
        "\n",
        "    AWATER10  INTPTLAT10  INTPTLON10  HOUSING10  POP10        density  \n",
        "5          0   37.801053 -122.254368         98    132  159756.275944  \n",
        "17         0   37.777080 -122.279261          6     19   29502.262644  \n",
        "20         0   37.876048 -122.256400          1    827  203276.090630  \n",
        "22         0   37.865816 -122.263866         57    103   25392.040294  \n",
        "23         0   37.862168 -122.263677         81    205   26690.170540  "
       ]
      }
     ],
     "prompt_number": 13
    },
    {
     "cell_type": "code",
     "collapsed": false,
     "input": [
      "print haversine(sf_highdensity.INTPTLON10.loc[5], sf_highdensity.INTPTLAT10.loc[5], sf_highdensity.INTPTLON10.loc[17], sf_highdensity.INTPTLAT10.loc[17])"
     ],
     "language": "python",
     "metadata": {},
     "outputs": [
      {
       "output_type": "stream",
       "stream": "stdout",
       "text": [
        "2.14280705702\n"
       ]
      }
     ],
     "prompt_number": 17
    },
    {
     "cell_type": "code",
     "collapsed": false,
     "input": [
      "indices = sf_highdensity.index.values\n",
      "print indices[1], indices[-1]"
     ],
     "language": "python",
     "metadata": {},
     "outputs": [
      {
       "output_type": "stream",
       "stream": "stdout",
       "text": [
        "17 569200\n"
       ]
      }
     ],
     "prompt_number": 18
    },
    {
     "cell_type": "code",
     "collapsed": false,
     "input": [
      "print haversine(sf_highdensity.INTPTLON10.loc[indices[0]], sf_highdensity.INTPTLAT10.loc[indices[0]], sf_highdensity.INTPTLON10.loc[indices[1]], sf_highdensity.INTPTLAT10.loc[indices[1]])"
     ],
     "language": "python",
     "metadata": {},
     "outputs": [
      {
       "output_type": "stream",
       "stream": "stdout",
       "text": [
        "2.14280705702\n"
       ]
      }
     ],
     "prompt_number": 19
    },
    {
     "cell_type": "code",
     "collapsed": false,
     "input": [
      "print len(indices), len(sf_highdensity)\n",
      "print indices[len(indices) - 2]\n",
      "print indices[-1]"
     ],
     "language": "python",
     "metadata": {},
     "outputs": [
      {
       "output_type": "stream",
       "stream": "stdout",
       "text": [
        "10529 10529\n",
        "569199\n",
        "569200\n"
       ]
      }
     ],
     "prompt_number": 23
    },
    {
     "cell_type": "code",
     "collapsed": false,
     "input": [
      "from random import randrange\n",
      "\n",
      "distance = 0\n",
      "tests = 10000\n",
      "\n",
      "for n in range(tests):\n",
      "    i = randrange(len(indices))\n",
      "    j = randrange(len(indices))\n",
      "    distance += haversine(sf_highdensity.INTPTLON10.loc[indices[i]], sf_highdensity.INTPTLAT10.loc[indices[i]], sf_highdensity.INTPTLON10.loc[indices[j]], sf_highdensity.INTPTLAT10.loc[indices[j]])\n",
      "        \n",
      "print \"Average distance between high-density blocks:\", round(distance / tests, 3), \"miles\""
     ],
     "language": "python",
     "metadata": {},
     "outputs": [
      {
       "output_type": "stream",
       "stream": "stdout",
       "text": [
        "Average distance between high-density blocks: 15.167 miles\n"
       ]
      }
     ],
     "prompt_number": 78
    },
    {
     "cell_type": "code",
     "collapsed": false,
     "input": [],
     "language": "python",
     "metadata": {},
     "outputs": []
    }
   ],
   "metadata": {}
  }
 ]
}