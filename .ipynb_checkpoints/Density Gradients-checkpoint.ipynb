{
 "metadata": {
  "name": "",
  "signature": "sha256:88f674f7fe9bfe3d10b23848aa0ee6ba33139ae53a29871269a1038105a0ce43"
 },
 "nbformat": 3,
 "nbformat_minor": 0,
 "worksheets": [
  {
   "cells": [
    {
     "cell_type": "code",
     "collapsed": false,
     "input": [
      "import pandas as pd\n",
      "import math"
     ],
     "language": "python",
     "metadata": {},
     "outputs": [],
     "prompt_number": 2
    },
    {
     "cell_type": "code",
     "collapsed": false,
     "input": [
      "bayarea = pd.read_csv(\"block_pop_area.csv\")"
     ],
     "language": "python",
     "metadata": {},
     "outputs": [],
     "prompt_number": 3
    },
    {
     "cell_type": "code",
     "collapsed": false,
     "input": [
      "bayarea[\"density\"] = bayarea[\"POP10\"]/bayarea[\"ALAND10\"]"
     ],
     "language": "python",
     "metadata": {},
     "outputs": [],
     "prompt_number": 4
    },
    {
     "cell_type": "code",
     "collapsed": false,
     "input": [
      "bayarea.density = bayarea.density * 1000000"
     ],
     "language": "python",
     "metadata": {},
     "outputs": [],
     "prompt_number": 5
    },
    {
     "cell_type": "code",
     "collapsed": false,
     "input": [
      "bayareanonzero = bayarea[bayarea.density > 0]"
     ],
     "language": "python",
     "metadata": {},
     "outputs": [],
     "prompt_number": 6
    },
    {
     "cell_type": "code",
     "collapsed": false,
     "input": [
      "bayareafiltered = bayareanonzero[bayareanonzero.ALAND10 > 0]"
     ],
     "language": "python",
     "metadata": {},
     "outputs": [],
     "prompt_number": 7
    },
    {
     "cell_type": "code",
     "collapsed": false,
     "input": [
      "len(bayareafiltered)"
     ],
     "language": "python",
     "metadata": {},
     "outputs": [
      {
       "metadata": {},
       "output_type": "pyout",
       "prompt_number": 8,
       "text": [
        "40303"
       ]
      }
     ],
     "prompt_number": 8
    },
    {
     "cell_type": "code",
     "collapsed": false,
     "input": [
      "len(bayareanonzero)"
     ],
     "language": "python",
     "metadata": {},
     "outputs": [
      {
       "metadata": {},
       "output_type": "pyout",
       "prompt_number": 9,
       "text": [
        "41304"
       ]
      }
     ],
     "prompt_number": 9
    },
    {
     "cell_type": "code",
     "collapsed": false,
     "input": [
      "bayareafiltered.density.max()"
     ],
     "language": "python",
     "metadata": {},
     "outputs": [
      {
       "metadata": {},
       "output_type": "pyout",
       "prompt_number": 10,
       "text": [
        "1225000.0"
       ]
      }
     ],
     "prompt_number": 10
    },
    {
     "cell_type": "code",
     "collapsed": false,
     "input": [
      "# start at 100\n",
      "# multiply by 1.1 each time\n",
      "#end at bayareafiltered.density.max()\n",
      "\n",
      "increment = 1.1\n",
      "\n",
      "densitybuckets = [math.ceil(bayareafiltered.density.min())]\n",
      "i = densitybuckets[0]\n",
      "while i < bayareafiltered.density.max():\n",
      "    i = math.ceil(i * increment)\n",
      "    densitybuckets.append(i)"
     ],
     "language": "python",
     "metadata": {},
     "outputs": [],
     "prompt_number": 34
    },
    {
     "cell_type": "code",
     "collapsed": false,
     "input": [
      "df = pd.DataFrame()"
     ],
     "language": "python",
     "metadata": {},
     "outputs": [],
     "prompt_number": 35
    },
    {
     "cell_type": "code",
     "collapsed": false,
     "input": [
      "df[\"threshold\"] = densitybuckets"
     ],
     "language": "python",
     "metadata": {},
     "outputs": [],
     "prompt_number": 36
    },
    {
     "cell_type": "code",
     "collapsed": false,
     "input": [
      "df[\"cum_pop\"] = 0"
     ],
     "language": "python",
     "metadata": {},
     "outputs": [],
     "prompt_number": 37
    },
    {
     "cell_type": "code",
     "collapsed": false,
     "input": [
      "# for each row in df, sum the populations of all blocks with density less than threshold\n",
      "\n",
      "for i in df.index.values:\n",
      "    bay = bayareafiltered[bayareafiltered.density < df.threshold.loc[i]]\n",
      "    df.cum_pop.loc[i] = bay.POP10.sum()\n"
     ],
     "language": "python",
     "metadata": {},
     "outputs": [],
     "prompt_number": 38
    },
    {
     "cell_type": "code",
     "collapsed": false,
     "input": [
      "df[\"population\"] = 0\n",
      "\n",
      "df[\"population\"][0] = df[\"cum_pop\"][0]\n",
      "\n",
      "for i in range(1,len(df.index)):\n",
      "    df[\"population\"][i] = df[\"cum_pop\"][i] - df[\"cum_pop\"][i-1]\n",
      "    "
     ],
     "language": "python",
     "metadata": {},
     "outputs": [],
     "prompt_number": 39
    },
    {
     "cell_type": "code",
     "collapsed": false,
     "input": [
      "import plotly.plotly as py\n",
      "from plotly.graph_objs import *\n",
      "py.sign_in(\"drew.levitt\", \"eqovjq7yrk\")\n",
      "\n",
      "trace1 = Scatter(\n",
      "    x=df.threshold.tolist(),\n",
      "    y=df.population.tolist()\n",
      ")\n",
      "\n",
      "data = Data([trace1])\n",
      "layout = Layout(\n",
      "    xaxis=XAxis(\n",
      "        type='log',\n",
      "        autorange=True\n",
      "    ),\n",
      "    yaxis=YAxis(\n",
      "#        type='log',\n",
      "        autorange=True\n",
      "    )\n",
      ")\n",
      "fig = Figure(data=data, layout=layout)\n",
      "plot_url = py.plot(fig, filename='plotly-log-axes')"
     ],
     "language": "python",
     "metadata": {},
     "outputs": [
      {
       "output_type": "stream",
       "stream": "stdout",
       "text": [
        "High five! You successfuly sent some data to your account on plotly. View your plot in your browser at https://plot.ly/~drew.levitt/0 or inside your plot.ly account where it is named 'plotly-log-axes'\n"
       ]
      }
     ],
     "prompt_number": 40
    },
    {
     "cell_type": "code",
     "collapsed": false,
     "input": [],
     "language": "python",
     "metadata": {},
     "outputs": []
    }
   ],
   "metadata": {}
  }
 ]
}