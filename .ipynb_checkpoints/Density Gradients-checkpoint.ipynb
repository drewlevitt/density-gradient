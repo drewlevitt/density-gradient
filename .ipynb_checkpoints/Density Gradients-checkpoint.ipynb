{
 "metadata": {
  "name": "",
  "signature": "sha256:506f62bc4ec4a121377aa78d342466cc88f53b747d4656d1448209cef93725eb"
 },
 "nbformat": 3,
 "nbformat_minor": 0,
 "worksheets": [
  {
   "cells": [
    {
     "cell_type": "code",
     "collapsed": false,
     "input": [
      "import pandas as pd\n",
      "import math\n",
      "\n",
      "increment = 1.05 # determines width of buckets for density analysis"
     ],
     "language": "python",
     "metadata": {},
     "outputs": [],
     "prompt_number": 20
    },
    {
     "cell_type": "code",
     "collapsed": false,
     "input": [
      "def density(source):\n",
      "    \"\"\"\n",
      "    Return a dataframe of geographies with land area and population > 0, with density calculated in persons / sq mi\n",
      "    \"\"\"\n",
      "    # filter source to blocks with nonzero population and land area\n",
      "    source = source[source.ALAND10 > 0]\n",
      "    source = source[source.POP10 > 0]\n",
      "    \n",
      "    # calculate population density for each block\n",
      "    # multiply by 2589988.11 to convert to persons / sq mi\n",
      "    # (could instead multiply by 1000000 to convert to persons / sq km)\n",
      "    source[\"density\"] = source[\"POP10\"] * 2589988.11 / source[\"ALAND10\"]\n",
      "    \n",
      "    return source # this is probably bad naming practice..."
     ],
     "language": "python",
     "metadata": {},
     "outputs": [],
     "prompt_number": 21
    },
    {
     "cell_type": "code",
     "collapsed": false,
     "input": [
      "def density_distribution(source):\n",
      "    \"\"\"\n",
      "    Return a dataframe with density thresholds and cumulative, marginal, and percentage population at each threshold\n",
      "    \"\"\"\n",
      "    source = density(source)\n",
      "    \n",
      "    # determine density buckets, geometrically distributed from source.density.min() to source.density.max()\n",
      "    densitybuckets = [math.ceil(source.density.min())]\n",
      "    i = densitybuckets[0]\n",
      "    while i < source.density.max():\n",
      "        i = math.ceil(i * increment)\n",
      "        densitybuckets.append(i)\n",
      "        \n",
      "    # df will hold our results\n",
      "    df = pd.DataFrame()\n",
      "    df[\"threshold\"] = densitybuckets\n",
      "    df[\"cum_pop\"] = 0\n",
      "    df[\"population\"] = 0 # can't call it pop because that is a function!\n",
      "    \n",
      "    # cumulative population\n",
      "    # for each row in df, sum the populations of all blocks with density less than threshold\n",
      "    for i in df.index.values:\n",
      "        blocks = source[source.density < df.threshold.loc[i]]\n",
      "        df.cum_pop.loc[i] = blocks.POP10.sum()\n",
      "        \n",
      "    # marginal population, calculated via simple subtraction\n",
      "    df[\"population\"][0] = df[\"cum_pop\"][0]\n",
      "    for i in range(1,len(df.index)):\n",
      "        df[\"population\"][i] = df[\"cum_pop\"][i] - df[\"cum_pop\"][i-1]\n",
      "        \n",
      "    # % of population\n",
      "    df[\"pct_pop\"] = df[\"population\"] / df.population.sum()\n",
      "        \n",
      "    return df"
     ],
     "language": "python",
     "metadata": {},
     "outputs": [],
     "prompt_number": 22
    },
    {
     "cell_type": "code",
     "collapsed": false,
     "input": [
      "all_CA = pd.read_csv(\"all_CA.csv\")"
     ],
     "language": "python",
     "metadata": {},
     "outputs": [],
     "prompt_number": 23
    },
    {
     "cell_type": "code",
     "collapsed": false,
     "input": [
      "metroareas = {}\n",
      "\n",
      "metroareas[\"LA\"] = [37, 59, 111, 71, 65] # Los Angeles-Long Beach-Riverside, CA CSA: Los Angeles, Orange, Ventura, San Bernardino, and Riverside Counties\n",
      "metroareas[\"SD\"] = [73] # San Diego-Carlsbad-San Marcos, CA MSA: San Diego County\n",
      "metroareas[\"SJ\"] = [85, 69] # San Jose-Sunnyvale-Santa Clara, CA MSA: Santa Clara and San Benito Counties\n",
      "metroareas[\"SF\"] = [75, 1, 41, 13, 81] # San Francisco-Oakland-Fremont, CA MSA: San Francisco, Alameda, Marin, Contra Costa, and San Mateo Counties\n",
      "metroareas[\"Fresno\"] = [19, 39] # Fresno-Madera, CA CSA: Fresno and Madera Counties\n",
      "metroareas[\"Sacto\"] = [67, 61, 113, 17] # Sacramento-Arden Arcade-Roseville, CA MSA: Sacramento, Placer, Yolo, and El Dorado Counties"
     ],
     "language": "python",
     "metadata": {},
     "outputs": [],
     "prompt_number": 24
    },
    {
     "cell_type": "code",
     "collapsed": false,
     "input": [
      "metrosource = {}\n",
      "\n",
      "for key, value in metroareas.iteritems():\n",
      "    metrosource[key] = all_CA[all_CA.COUNTYFP10.isin(value)] # the in operator doesn't work with pandas! but this works fine"
     ],
     "language": "python",
     "metadata": {},
     "outputs": [],
     "prompt_number": 25
    },
    {
     "cell_type": "code",
     "collapsed": false,
     "input": [
      "metroresults = {}\n",
      "\n",
      "for key, value in metrosource.iteritems():\n",
      "    metroresults[key] = density_distribution(value)"
     ],
     "language": "python",
     "metadata": {},
     "outputs": [],
     "prompt_number": 17
    },
    {
     "cell_type": "code",
     "collapsed": false,
     "input": [
      "import plotly.plotly as py\n",
      "from plotly.graph_objs import *\n",
      "py.sign_in(\"drew.levitt\", \"eqovjq7yrk\")\n",
      "\n",
      "trace1 = Scatter(\n",
      "    x=metroresults[\"SF\"].threshold.tolist(),\n",
      "    y=metroresults[\"SF\"].pct_pop.tolist()\n",
      ")\n",
      "\n",
      "trace2 = Scatter(\n",
      "    x=metroresults[\"SD\"].threshold.tolist(),\n",
      "    y=metroresults[\"SD\"].pct_pop.tolist()\n",
      ")\n",
      "\n",
      "trace3 = Scatter(\n",
      "    x=metroresults[\"Fresno\"].threshold.tolist(),\n",
      "    y=metroresults[\"Fresno\"].pct_pop.tolist()\n",
      ")\n",
      "\n",
      "data = Data([trace1, trace2, trace3])\n",
      "layout = Layout(\n",
      "    xaxis=XAxis(\n",
      "        type='log',\n",
      "        autorange=True\n",
      "    ),\n",
      "    yaxis=YAxis(\n",
      "#        type='log',\n",
      "        autorange=True\n",
      "    )\n",
      ")\n",
      "fig = Figure(data=data, layout=layout)\n",
      "plot_url = py.plot(fig, filename='SF, SD, Fresno')"
     ],
     "language": "python",
     "metadata": {},
     "outputs": [],
     "prompt_number": 18
    },
    {
     "cell_type": "code",
     "collapsed": false,
     "input": [
      "from math import radians, cos, sin, asin, sqrt\n",
      "\n",
      "def haversine(lon1, lat1, lon2, lat2):\n",
      "    \"\"\"\n",
      "    Calculate the great circle distance (in miles) between two points on the earth (specified in decimal degrees)\n",
      "    \"\"\"\n",
      "    # convert decimal degrees to radians \n",
      "    lon1, lat1, lon2, lat2 = map(radians, [lon1, lat1, lon2, lat2])\n",
      "\n",
      "    # haversine formula \n",
      "    dlon = lon2 - lon1 \n",
      "    dlat = lat2 - lat1 \n",
      "    a = sin(dlat/2.)**2 + cos(lat1) * cos(lat2) * sin(dlon/2.)**2\n",
      "    c = 2 * asin(sqrt(a)) \n",
      "\n",
      "    # 3958.761 mi is the mean radius of the Earth\n",
      "    mi = 3958.761 * c\n",
      "    return mi "
     ],
     "language": "python",
     "metadata": {},
     "outputs": [],
     "prompt_number": 36
    },
    {
     "cell_type": "code",
     "collapsed": false,
     "input": [
      "sf_density = density(metrosource[\"SF\"])\n",
      "sf_highdensity = sf_density[sf_density.density >= 15000]\n",
      "indices = sf_highdensity.index.values"
     ],
     "language": "python",
     "metadata": {},
     "outputs": [],
     "prompt_number": 57
    },
    {
     "cell_type": "code",
     "collapsed": false,
     "input": [
      "from random import randrange\n",
      "\n",
      "tests = 10000\n",
      "distance = 0\n",
      "\n",
      "for n in range(tests):\n",
      "    i = randrange(len(indices))\n",
      "    j = randrange(len(indices))\n",
      "    \n",
      "    distance += haversine(sf_highdensity.INTPTLON10.loc[indices[i]], \n",
      "                          sf_highdensity.INTPTLAT10.loc[indices[i]], \n",
      "                          sf_highdensity.INTPTLON10.loc[indices[j]], \n",
      "                          sf_highdensity.INTPTLAT10.loc[indices[j]])\n",
      "\n",
      "print \"Approximate average distance between high-density blocks:\", distance / tests, \"miles\""
     ],
     "language": "python",
     "metadata": {},
     "outputs": [
      {
       "output_type": "stream",
       "stream": "stdout",
       "text": [
        "Approximate average distance between high-density blocks: 15.164907889 miles\n"
       ]
      }
     ],
     "prompt_number": 59
    },
    {
     "cell_type": "code",
     "collapsed": false,
     "input": [],
     "language": "python",
     "metadata": {},
     "outputs": []
    }
   ],
   "metadata": {}
  }
 ]
}